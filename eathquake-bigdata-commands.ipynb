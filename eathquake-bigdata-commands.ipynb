<!DOCTYPE html>
<html>
<head>
  <meta charset="UTF-8">
  <title>Earthquake Big Data Project</title>
</head>
<body style="font-family: Arial; background-color: #f9f9f9; padding: 20px;">
  <div style="max-width: 800px; margin: auto; background-color: #fff; padding: 30px; border-radius: 8px; box-shadow: 0 0 10px rgba(0,0,0,0.1);">
    <h1 style="color: #005a9c;">Earthquake Big Data Analysis</h1>
    <p>This project simulates Big Data operations such as Hive queries, HDFS commands, Sqoop-like data handling, and SQL analysis using Python, Pandas, and SQLite. It also includes visualizations created with Matplotlib and Seaborn.</p>

    <h2>Contents</h2>
    <ul>
      <li>Notebook: <code>earthquake_bigdata_kaggle.ipynb</code></li>
      <li>PDF Report: <code>earthquake_bigdata_kaggle.pdf</code></li>
      <li>Visualizations: 10 plots based on magnitude, depth, alert level, and more</li>
    </ul>

    <h2>Technologies Used</h2>
    <ul>
      <li>Pandas</li>
      <li>SQLite</li>
      <li>Matplotlib</li>
      <li>Seaborn</li>
      <li>Kaggle Notebook</li>
    </ul>

    <p style="margin-top: 40px; font-weight: bold; text-align: center; color: #555;">
      Created by: Karunesh Kr Pandey<br>
      October 2025
    </p>
  </div>
</body>
</html>
