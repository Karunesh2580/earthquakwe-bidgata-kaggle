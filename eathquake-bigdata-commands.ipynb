<!DOCTYPE html>
<html lang="en">
<head>
  <meta charset="UTF-8">
  <title>Earthquake Big Data Project</title>
  <style>
    body {
      font-family: 'Segoe UI', sans-serif;
      background-color: #f4f4f4;
      margin: 0;
      padding: 20px;
      color: #333;
    }
    .container {
      max-width: 800px;
      margin: auto;
      background: white;
      padding: 30px;
      border-radius: 10px;
      box-shadow: 0 0 10px rgba(0,0,0,0.1);
    }
    h1 {
      color: #007acc;
      text-align: center;
    }
    h2 {
      color: #444;
      margin-top: 30px;
    }
    p {
      line-height: 1.6;
    }
    .author {
      text-align: center;
      margin-top: 40px;
      font-weight: bold;
      font-size: 1.1em;
      color: #555;
    }
  </style>
</head>
<body>
  <div class="container">
    <h1>Earthquake Big Data Analysis</h1>

    <p>This project simulates Big Data operations such as Hive queries, HDFS commands, Sqoop-like data handling, and SQL analysis using Python, Pandas, and SQLite. It also includes insightful visualizations created with Matplotlib and Seaborn.</p>

    <h2>📁 Contents</h2>
    <ul>
      <li><strong>Notebook:</strong> earthquake_bigdata_kaggle.ipynb</li>
      <li><strong>PDF Report:</strong> earthquake_bigdata_kaggle.pdf</li>
      <li><strong>Visualizations:</strong> 10 plots based on magnitude, depth, alert level, and more</li>
    </ul>

    <h2>🛠️ Technologies Used</h2>
    <ul>
      <li>Pandas</li>
      <li>SQLite</li>
      <li>Matplotlib</li>
      <li>Seaborn</li>
      <li>Kaggle Notebook</li>
    </ul>

    <div class="author">
      Created by: Karuneshv Kr Pandey<br>
      October 2025
    </div>
  </div>
</body>
</html>
